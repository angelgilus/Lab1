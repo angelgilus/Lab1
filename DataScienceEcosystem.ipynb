{
 "cells": [
  {
   "cell_type": "markdown",
   "id": "72aa1e5c-fd59-4ac6-a0e0-85117535bb14",
   "metadata": {},
   "source": [
    "# Data Science Tools and Ecosystem"
   ]
  },
  {
   "cell_type": "markdown",
   "id": "d455c34f-93c4-49e6-bb42-e2bee84b452b",
   "metadata": {},
   "source": [
    "In this notebook, Data Science Tools and Ecosystem are summarized."
   ]
  },
  {
   "cell_type": "markdown",
   "id": "3e5aa870-e6cb-49ee-bacc-c219679081e6",
   "metadata": {},
   "source": [
    "__Objectives:__\n",
    "\n",
    "- Understand the different tools used for data science \n",
    "- Hands on Jupyther notebooks\n",
    "- High overview of data science libraries \n",
    "- Use of R\n",
    "- Use of Git, Github and its importance"
   ]
  },
  {
   "cell_type": "markdown",
   "id": "dd73f300-7a8a-4dcd-b147-72a4f7de9d9b",
   "metadata": {},
   "source": [
    "Some of the popular languages that Data Scientists use are:\n",
    "\n",
    "1. R\n",
    "2. Python\n",
    "3. Java"
   ]
  },
  {
   "cell_type": "markdown",
   "id": "d752551c-4e75-4f71-be59-4c9bce8303fb",
   "metadata": {},
   "source": [
    "Some of the commonly used libraries used by Data Scientists include:\n",
    "\n",
    "1. Skitlearn\n",
    "2. Pytorch \n",
    "3. NLP"
   ]
  },
  {
   "cell_type": "markdown",
   "id": "64d25c77-57e3-44c3-ba45-58273f22cd69",
   "metadata": {},
   "source": [
    "|Data Science Tools|\n",
    "|------------------|\n",
    "|R Studio|\n",
    "|Git|\n",
    "|Jupyter|\n",
    "|Anaconda|\n",
    "|VsCode|"
   ]
  },
  {
   "cell_type": "markdown",
   "id": "945affc5-74b0-4faa-8bd9-33fcd74a6e6b",
   "metadata": {},
   "source": [
    "### Below are a few examples of evaluating arithmetic expressions in Python"
   ]
  },
  {
   "cell_type": "markdown",
   "id": "ac9b587f-72ed-4aef-b45e-1929f4cdf74b",
   "metadata": {},
   "source": [
    "This a simple arithmetic expression to mutiply then add integers"
   ]
  },
  {
   "cell_type": "code",
   "execution_count": 4,
   "id": "6f15cce0-b6d7-417e-b8c7-188779623a23",
   "metadata": {},
   "outputs": [
    {
     "data": {
      "text/plain": [
       "17"
      ]
     },
     "execution_count": 4,
     "metadata": {},
     "output_type": "execute_result"
    }
   ],
   "source": [
    "(3*4)+5"
   ]
  },
  {
   "cell_type": "markdown",
   "id": "684a231a-f1a4-4740-8c0e-c206f8117f3a",
   "metadata": {},
   "source": [
    "This will convert 200 minutes to hours by diving by 60"
   ]
  },
  {
   "cell_type": "code",
   "execution_count": 5,
   "id": "620e1f08-68bf-4f5d-95d5-238bc5b98407",
   "metadata": {},
   "outputs": [
    {
     "data": {
      "text/plain": [
       "3.3333333333333335"
      ]
     },
     "execution_count": 5,
     "metadata": {},
     "output_type": "execute_result"
    }
   ],
   "source": [
    "200/60"
   ]
  },
  {
   "cell_type": "markdown",
   "id": "7c2fee39-ec15-4239-97fe-f3ce0a3e9cb1",
   "metadata": {},
   "source": [
    "## Author \n",
    "Angel Gil"
   ]
  },
  {
   "cell_type": "code",
   "execution_count": null,
   "id": "85c50f1d-6ff8-4c9f-b467-880ffd5c8d83",
   "metadata": {},
   "outputs": [],
   "source": []
  }
 ],
 "metadata": {
  "kernelspec": {
   "display_name": "Python 3 (ipykernel)",
   "language": "python",
   "name": "python3"
  },
  "language_info": {
   "codemirror_mode": {
    "name": "ipython",
    "version": 3
   },
   "file_extension": ".py",
   "mimetype": "text/x-python",
   "name": "python",
   "nbconvert_exporter": "python",
   "pygments_lexer": "ipython3",
   "version": "3.10.9"
  }
 },
 "nbformat": 4,
 "nbformat_minor": 5
}
